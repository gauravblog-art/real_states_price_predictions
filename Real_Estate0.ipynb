{
  "nbformat": 4,
  "nbformat_minor": 0,
  "metadata": {
    "colab": {
      "name": "Real Estate0.ipynb",
      "provenance": [],
      "mount_file_id": "1D9FKaP2zHJ5Kx0b93q9ieFKkGxM_reiw",
      "authorship_tag": "ABX9TyOUL2FlLseXL0+W4mj8R0jO",
      "include_colab_link": true
    },
    "kernelspec": {
      "name": "python3",
      "display_name": "Python 3"
    },
    "language_info": {
      "name": "python"
    }
  },
  "cells": [
    {
      "cell_type": "markdown",
      "metadata": {
        "id": "view-in-github",
        "colab_type": "text"
      },
      "source": [
        "<a href=\"https://colab.research.google.com/github/gauravblog-art/real_states_price_predictions/blob/main/Real_Estate0.ipynb\" target=\"_parent\"><img src=\"https://colab.research.google.com/assets/colab-badge.svg\" alt=\"Open In Colab\"/></a>"
      ]
    },
    {
      "cell_type": "markdown",
      "metadata": {
        "id": "52nMsN6ge8Uq"
      },
      "source": [
        "# we are going to create a machine leaning model\n"
      ]
    },
    {
      "cell_type": "code",
      "metadata": {
        "id": "gGosB_wVfGc0"
      },
      "source": [
        "import pandas as pd"
      ],
      "execution_count": 1,
      "outputs": []
    },
    {
      "cell_type": "code",
      "metadata": {
        "colab": {
          "base_uri": "https://localhost:8080/"
        },
        "id": "kIP7ikU3gW4I",
        "outputId": "bb8a131d-6119-4676-9c9e-4cc30ce65552"
      },
      "source": [
        "from google.colab import drive\n",
        "drive.mount('/content/drive')"
      ],
      "execution_count": 2,
      "outputs": [
        {
          "output_type": "stream",
          "text": [
            "Drive already mounted at /content/drive; to attempt to forcibly remount, call drive.mount(\"/content/drive\", force_remount=True).\n"
          ],
          "name": "stdout"
        }
      ]
    },
    {
      "cell_type": "code",
      "metadata": {
        "colab": {
          "base_uri": "https://localhost:8080/",
          "height": 195
        },
        "id": "vshiN_SDfc5d",
        "outputId": "6174bbb7-2ceb-4f47-f2f9-2d5b454feca7"
      },
      "source": [
        "housing=pd.read_csv(\"/content/drive/MyDrive/Machine Learnng/data.csv\")\n",
        "housing.head()"
      ],
      "execution_count": 3,
      "outputs": [
        {
          "output_type": "execute_result",
          "data": {
            "text/html": [
              "<div>\n",
              "<style scoped>\n",
              "    .dataframe tbody tr th:only-of-type {\n",
              "        vertical-align: middle;\n",
              "    }\n",
              "\n",
              "    .dataframe tbody tr th {\n",
              "        vertical-align: top;\n",
              "    }\n",
              "\n",
              "    .dataframe thead th {\n",
              "        text-align: right;\n",
              "    }\n",
              "</style>\n",
              "<table border=\"1\" class=\"dataframe\">\n",
              "  <thead>\n",
              "    <tr style=\"text-align: right;\">\n",
              "      <th></th>\n",
              "      <th>CRIM</th>\n",
              "      <th>ZN</th>\n",
              "      <th>INDUS</th>\n",
              "      <th>CHAS</th>\n",
              "      <th>NOX</th>\n",
              "      <th>RM</th>\n",
              "      <th>AGE</th>\n",
              "      <th>DIS</th>\n",
              "      <th>RAD</th>\n",
              "      <th>TAX</th>\n",
              "      <th>PTRATIO</th>\n",
              "      <th>B</th>\n",
              "      <th>LSTAT</th>\n",
              "      <th>MEDV</th>\n",
              "    </tr>\n",
              "  </thead>\n",
              "  <tbody>\n",
              "    <tr>\n",
              "      <th>0</th>\n",
              "      <td>0.00632</td>\n",
              "      <td>18.0</td>\n",
              "      <td>2.31</td>\n",
              "      <td>0</td>\n",
              "      <td>0.538</td>\n",
              "      <td>6.575</td>\n",
              "      <td>65.2</td>\n",
              "      <td>4.0900</td>\n",
              "      <td>1</td>\n",
              "      <td>296</td>\n",
              "      <td>15.3</td>\n",
              "      <td>396.90</td>\n",
              "      <td>4.98</td>\n",
              "      <td>24.0</td>\n",
              "    </tr>\n",
              "    <tr>\n",
              "      <th>1</th>\n",
              "      <td>0.02731</td>\n",
              "      <td>0.0</td>\n",
              "      <td>7.07</td>\n",
              "      <td>0</td>\n",
              "      <td>0.469</td>\n",
              "      <td>6.421</td>\n",
              "      <td>78.9</td>\n",
              "      <td>4.9671</td>\n",
              "      <td>2</td>\n",
              "      <td>242</td>\n",
              "      <td>17.8</td>\n",
              "      <td>396.90</td>\n",
              "      <td>9.14</td>\n",
              "      <td>21.6</td>\n",
              "    </tr>\n",
              "    <tr>\n",
              "      <th>2</th>\n",
              "      <td>0.02729</td>\n",
              "      <td>0.0</td>\n",
              "      <td>7.07</td>\n",
              "      <td>0</td>\n",
              "      <td>0.469</td>\n",
              "      <td>7.185</td>\n",
              "      <td>61.1</td>\n",
              "      <td>4.9671</td>\n",
              "      <td>2</td>\n",
              "      <td>242</td>\n",
              "      <td>17.8</td>\n",
              "      <td>392.83</td>\n",
              "      <td>4.03</td>\n",
              "      <td>34.7</td>\n",
              "    </tr>\n",
              "    <tr>\n",
              "      <th>3</th>\n",
              "      <td>0.03237</td>\n",
              "      <td>0.0</td>\n",
              "      <td>2.18</td>\n",
              "      <td>0</td>\n",
              "      <td>0.458</td>\n",
              "      <td>6.998</td>\n",
              "      <td>45.8</td>\n",
              "      <td>6.0622</td>\n",
              "      <td>3</td>\n",
              "      <td>222</td>\n",
              "      <td>18.7</td>\n",
              "      <td>394.63</td>\n",
              "      <td>2.94</td>\n",
              "      <td>33.4</td>\n",
              "    </tr>\n",
              "    <tr>\n",
              "      <th>4</th>\n",
              "      <td>0.06905</td>\n",
              "      <td>0.0</td>\n",
              "      <td>2.18</td>\n",
              "      <td>0</td>\n",
              "      <td>0.458</td>\n",
              "      <td>7.147</td>\n",
              "      <td>54.2</td>\n",
              "      <td>6.0622</td>\n",
              "      <td>3</td>\n",
              "      <td>222</td>\n",
              "      <td>18.7</td>\n",
              "      <td>396.90</td>\n",
              "      <td>5.33</td>\n",
              "      <td>36.2</td>\n",
              "    </tr>\n",
              "  </tbody>\n",
              "</table>\n",
              "</div>"
            ],
            "text/plain": [
              "      CRIM    ZN  INDUS  CHAS    NOX  ...  TAX  PTRATIO       B  LSTAT  MEDV\n",
              "0  0.00632  18.0   2.31     0  0.538  ...  296     15.3  396.90   4.98  24.0\n",
              "1  0.02731   0.0   7.07     0  0.469  ...  242     17.8  396.90   9.14  21.6\n",
              "2  0.02729   0.0   7.07     0  0.469  ...  242     17.8  392.83   4.03  34.7\n",
              "3  0.03237   0.0   2.18     0  0.458  ...  222     18.7  394.63   2.94  33.4\n",
              "4  0.06905   0.0   2.18     0  0.458  ...  222     18.7  396.90   5.33  36.2\n",
              "\n",
              "[5 rows x 14 columns]"
            ]
          },
          "metadata": {
            "tags": []
          },
          "execution_count": 3
        }
      ]
    },
    {
      "cell_type": "code",
      "metadata": {
        "colab": {
          "base_uri": "https://localhost:8080/"
        },
        "id": "nOGu5XLMflWA",
        "outputId": "ed8f71ee-0c88-4a3e-aac7-930a67fdeec5"
      },
      "source": [
        "housing.info()"
      ],
      "execution_count": 4,
      "outputs": [
        {
          "output_type": "stream",
          "text": [
            "<class 'pandas.core.frame.DataFrame'>\n",
            "RangeIndex: 506 entries, 0 to 505\n",
            "Data columns (total 14 columns):\n",
            " #   Column   Non-Null Count  Dtype  \n",
            "---  ------   --------------  -----  \n",
            " 0   CRIM     506 non-null    float64\n",
            " 1   ZN       506 non-null    float64\n",
            " 2   INDUS    506 non-null    float64\n",
            " 3   CHAS     506 non-null    int64  \n",
            " 4   NOX      506 non-null    float64\n",
            " 5   RM       501 non-null    float64\n",
            " 6   AGE      506 non-null    float64\n",
            " 7   DIS      506 non-null    float64\n",
            " 8   RAD      506 non-null    int64  \n",
            " 9   TAX      506 non-null    int64  \n",
            " 10  PTRATIO  506 non-null    float64\n",
            " 11  B        506 non-null    float64\n",
            " 12  LSTAT    506 non-null    float64\n",
            " 13  MEDV     506 non-null    float64\n",
            "dtypes: float64(11), int64(3)\n",
            "memory usage: 55.5 KB\n"
          ],
          "name": "stdout"
        }
      ]
    },
    {
      "cell_type": "code",
      "metadata": {
        "colab": {
          "base_uri": "https://localhost:8080/"
        },
        "id": "7h6HN2xVf_AN",
        "outputId": "5b6d9ef0-1e65-4cc6-b770-c2384f340561"
      },
      "source": [
        "housing['CHAS'].value_counts()"
      ],
      "execution_count": 5,
      "outputs": [
        {
          "output_type": "execute_result",
          "data": {
            "text/plain": [
              "0    471\n",
              "1     35\n",
              "Name: CHAS, dtype: int64"
            ]
          },
          "metadata": {
            "tags": []
          },
          "execution_count": 5
        }
      ]
    },
    {
      "cell_type": "code",
      "metadata": {
        "colab": {
          "base_uri": "https://localhost:8080/",
          "height": 304
        },
        "id": "2AI-47jIgMCp",
        "outputId": "6e6f8724-69e9-4a63-fdc7-2d25fe74d2fd"
      },
      "source": [
        "housing.describe()"
      ],
      "execution_count": 6,
      "outputs": [
        {
          "output_type": "execute_result",
          "data": {
            "text/html": [
              "<div>\n",
              "<style scoped>\n",
              "    .dataframe tbody tr th:only-of-type {\n",
              "        vertical-align: middle;\n",
              "    }\n",
              "\n",
              "    .dataframe tbody tr th {\n",
              "        vertical-align: top;\n",
              "    }\n",
              "\n",
              "    .dataframe thead th {\n",
              "        text-align: right;\n",
              "    }\n",
              "</style>\n",
              "<table border=\"1\" class=\"dataframe\">\n",
              "  <thead>\n",
              "    <tr style=\"text-align: right;\">\n",
              "      <th></th>\n",
              "      <th>CRIM</th>\n",
              "      <th>ZN</th>\n",
              "      <th>INDUS</th>\n",
              "      <th>CHAS</th>\n",
              "      <th>NOX</th>\n",
              "      <th>RM</th>\n",
              "      <th>AGE</th>\n",
              "      <th>DIS</th>\n",
              "      <th>RAD</th>\n",
              "      <th>TAX</th>\n",
              "      <th>PTRATIO</th>\n",
              "      <th>B</th>\n",
              "      <th>LSTAT</th>\n",
              "      <th>MEDV</th>\n",
              "    </tr>\n",
              "  </thead>\n",
              "  <tbody>\n",
              "    <tr>\n",
              "      <th>count</th>\n",
              "      <td>506.000000</td>\n",
              "      <td>506.000000</td>\n",
              "      <td>506.000000</td>\n",
              "      <td>506.000000</td>\n",
              "      <td>506.000000</td>\n",
              "      <td>501.000000</td>\n",
              "      <td>506.000000</td>\n",
              "      <td>506.000000</td>\n",
              "      <td>506.000000</td>\n",
              "      <td>506.000000</td>\n",
              "      <td>506.000000</td>\n",
              "      <td>506.000000</td>\n",
              "      <td>506.000000</td>\n",
              "      <td>506.000000</td>\n",
              "    </tr>\n",
              "    <tr>\n",
              "      <th>mean</th>\n",
              "      <td>3.613524</td>\n",
              "      <td>11.363636</td>\n",
              "      <td>11.136779</td>\n",
              "      <td>0.069170</td>\n",
              "      <td>0.554695</td>\n",
              "      <td>6.284341</td>\n",
              "      <td>68.574901</td>\n",
              "      <td>3.795043</td>\n",
              "      <td>9.549407</td>\n",
              "      <td>408.237154</td>\n",
              "      <td>18.455534</td>\n",
              "      <td>356.674032</td>\n",
              "      <td>12.653063</td>\n",
              "      <td>22.532806</td>\n",
              "    </tr>\n",
              "    <tr>\n",
              "      <th>std</th>\n",
              "      <td>8.601545</td>\n",
              "      <td>23.322453</td>\n",
              "      <td>6.860353</td>\n",
              "      <td>0.253994</td>\n",
              "      <td>0.115878</td>\n",
              "      <td>0.705587</td>\n",
              "      <td>28.148861</td>\n",
              "      <td>2.105710</td>\n",
              "      <td>8.707259</td>\n",
              "      <td>168.537116</td>\n",
              "      <td>2.164946</td>\n",
              "      <td>91.294864</td>\n",
              "      <td>7.141062</td>\n",
              "      <td>9.197104</td>\n",
              "    </tr>\n",
              "    <tr>\n",
              "      <th>min</th>\n",
              "      <td>0.006320</td>\n",
              "      <td>0.000000</td>\n",
              "      <td>0.460000</td>\n",
              "      <td>0.000000</td>\n",
              "      <td>0.385000</td>\n",
              "      <td>3.561000</td>\n",
              "      <td>2.900000</td>\n",
              "      <td>1.129600</td>\n",
              "      <td>1.000000</td>\n",
              "      <td>187.000000</td>\n",
              "      <td>12.600000</td>\n",
              "      <td>0.320000</td>\n",
              "      <td>1.730000</td>\n",
              "      <td>5.000000</td>\n",
              "    </tr>\n",
              "    <tr>\n",
              "      <th>25%</th>\n",
              "      <td>0.082045</td>\n",
              "      <td>0.000000</td>\n",
              "      <td>5.190000</td>\n",
              "      <td>0.000000</td>\n",
              "      <td>0.449000</td>\n",
              "      <td>5.884000</td>\n",
              "      <td>45.025000</td>\n",
              "      <td>2.100175</td>\n",
              "      <td>4.000000</td>\n",
              "      <td>279.000000</td>\n",
              "      <td>17.400000</td>\n",
              "      <td>375.377500</td>\n",
              "      <td>6.950000</td>\n",
              "      <td>17.025000</td>\n",
              "    </tr>\n",
              "    <tr>\n",
              "      <th>50%</th>\n",
              "      <td>0.256510</td>\n",
              "      <td>0.000000</td>\n",
              "      <td>9.690000</td>\n",
              "      <td>0.000000</td>\n",
              "      <td>0.538000</td>\n",
              "      <td>6.208000</td>\n",
              "      <td>77.500000</td>\n",
              "      <td>3.207450</td>\n",
              "      <td>5.000000</td>\n",
              "      <td>330.000000</td>\n",
              "      <td>19.050000</td>\n",
              "      <td>391.440000</td>\n",
              "      <td>11.360000</td>\n",
              "      <td>21.200000</td>\n",
              "    </tr>\n",
              "    <tr>\n",
              "      <th>75%</th>\n",
              "      <td>3.677082</td>\n",
              "      <td>12.500000</td>\n",
              "      <td>18.100000</td>\n",
              "      <td>0.000000</td>\n",
              "      <td>0.624000</td>\n",
              "      <td>6.625000</td>\n",
              "      <td>94.075000</td>\n",
              "      <td>5.188425</td>\n",
              "      <td>24.000000</td>\n",
              "      <td>666.000000</td>\n",
              "      <td>20.200000</td>\n",
              "      <td>396.225000</td>\n",
              "      <td>16.955000</td>\n",
              "      <td>25.000000</td>\n",
              "    </tr>\n",
              "    <tr>\n",
              "      <th>max</th>\n",
              "      <td>88.976200</td>\n",
              "      <td>100.000000</td>\n",
              "      <td>27.740000</td>\n",
              "      <td>1.000000</td>\n",
              "      <td>0.871000</td>\n",
              "      <td>8.780000</td>\n",
              "      <td>100.000000</td>\n",
              "      <td>12.126500</td>\n",
              "      <td>24.000000</td>\n",
              "      <td>711.000000</td>\n",
              "      <td>22.000000</td>\n",
              "      <td>396.900000</td>\n",
              "      <td>37.970000</td>\n",
              "      <td>50.000000</td>\n",
              "    </tr>\n",
              "  </tbody>\n",
              "</table>\n",
              "</div>"
            ],
            "text/plain": [
              "             CRIM          ZN       INDUS  ...           B       LSTAT        MEDV\n",
              "count  506.000000  506.000000  506.000000  ...  506.000000  506.000000  506.000000\n",
              "mean     3.613524   11.363636   11.136779  ...  356.674032   12.653063   22.532806\n",
              "std      8.601545   23.322453    6.860353  ...   91.294864    7.141062    9.197104\n",
              "min      0.006320    0.000000    0.460000  ...    0.320000    1.730000    5.000000\n",
              "25%      0.082045    0.000000    5.190000  ...  375.377500    6.950000   17.025000\n",
              "50%      0.256510    0.000000    9.690000  ...  391.440000   11.360000   21.200000\n",
              "75%      3.677082   12.500000   18.100000  ...  396.225000   16.955000   25.000000\n",
              "max     88.976200  100.000000   27.740000  ...  396.900000   37.970000   50.000000\n",
              "\n",
              "[8 rows x 14 columns]"
            ]
          },
          "metadata": {
            "tags": []
          },
          "execution_count": 6
        }
      ]
    },
    {
      "cell_type": "markdown",
      "metadata": {
        "id": "rM1AMFKqkdAq"
      },
      "source": [
        "# spliting tha date"
      ]
    },
    {
      "cell_type": "code",
      "metadata": {
        "id": "K9NDgFdNhM4q"
      },
      "source": [
        "import numpy as np\n",
        "\n",
        "def split_train_test(data,test_ration=0.2):\n",
        "    np.random.seed(42)\n",
        "    shuffled=np.random.permutation(len(data))\n",
        "    test_set_size=int(len(data)*test_ration)\n",
        "    test_indices = shuffled[:test_set_size]\n",
        "    train_indices = shuffled[test_set_size:] \n",
        "    return data.iloc[train_indices], data.iloc[test_indices]"
      ],
      "execution_count": 7,
      "outputs": []
    },
    {
      "cell_type": "code",
      "metadata": {
        "id": "DbR43QIpi0J2"
      },
      "source": [
        "train_set, test_set = split_train_test(housing, 0.2)"
      ],
      "execution_count": 8,
      "outputs": []
    },
    {
      "cell_type": "code",
      "metadata": {
        "colab": {
          "base_uri": "https://localhost:8080/"
        },
        "id": "N70kcpcvjJ81",
        "outputId": "c2cb0944-741b-47d7-c0a3-41df9e48739c"
      },
      "source": [
        "print(len(train_set))"
      ],
      "execution_count": 9,
      "outputs": [
        {
          "output_type": "stream",
          "text": [
            "405\n"
          ],
          "name": "stdout"
        }
      ]
    },
    {
      "cell_type": "code",
      "metadata": {
        "colab": {
          "base_uri": "https://localhost:8080/"
        },
        "id": "ocGuDivjjMf2",
        "outputId": "5e9c026a-c7d4-48e8-be39-6e2d0863e3ca"
      },
      "source": [
        "print(len(test_set))"
      ],
      "execution_count": 10,
      "outputs": [
        {
          "output_type": "stream",
          "text": [
            "101\n"
          ],
          "name": "stdout"
        }
      ]
    },
    {
      "cell_type": "markdown",
      "metadata": {
        "id": "qmUaK9cckosD"
      },
      "source": [
        "# split the date with use of sklearn\n"
      ]
    },
    {
      "cell_type": "code",
      "metadata": {
        "colab": {
          "base_uri": "https://localhost:8080/"
        },
        "id": "d-THHD87jiC7",
        "outputId": "eeddb720-0b22-45e9-837c-62d299c9996f"
      },
      "source": [
        "from sklearn.model_selection import train_test_split\n",
        "train_set,test_set= train_test_split(housing,test_size=0.2,random_state=42)\n",
        "print(len(train_set))\n",
        "print(len(test_set))"
      ],
      "execution_count": 11,
      "outputs": [
        {
          "output_type": "stream",
          "text": [
            "404\n",
            "102\n"
          ],
          "name": "stdout"
        }
      ]
    },
    {
      "cell_type": "code",
      "metadata": {
        "id": "z67y7g5wlcP-"
      },
      "source": [
        "from sklearn.model_selection import StratifiedShuffleSplit\n",
        "split=StratifiedShuffleSplit(n_splits=1,test_size=0.2,random_state=42)\n",
        "for train_index, test_index in split.split(housing, housing['CHAS']):\n",
        "    strat_train_set = housing.loc[train_index]\n",
        "    strat_test_set = housing.loc[test_index]"
      ],
      "execution_count": 12,
      "outputs": []
    },
    {
      "cell_type": "code",
      "metadata": {
        "colab": {
          "base_uri": "https://localhost:8080/"
        },
        "id": "8l9j6ctVnSYI",
        "outputId": "fa7814c6-1c08-47ec-a906-10ccef2834f0"
      },
      "source": [
        "strat_test_set['CHAS'].value_counts()"
      ],
      "execution_count": 13,
      "outputs": [
        {
          "output_type": "execute_result",
          "data": {
            "text/plain": [
              "0    95\n",
              "1     7\n",
              "Name: CHAS, dtype: int64"
            ]
          },
          "metadata": {
            "tags": []
          },
          "execution_count": 13
        }
      ]
    },
    {
      "cell_type": "code",
      "metadata": {
        "colab": {
          "base_uri": "https://localhost:8080/"
        },
        "id": "yUGpQ6wrnbFU",
        "outputId": "f8db40be-cea1-424d-d35b-c13d257194b7"
      },
      "source": [
        "strat_train_set['CHAS'].value_counts()"
      ],
      "execution_count": 14,
      "outputs": [
        {
          "output_type": "execute_result",
          "data": {
            "text/plain": [
              "0    376\n",
              "1     28\n",
              "Name: CHAS, dtype: int64"
            ]
          },
          "metadata": {
            "tags": []
          },
          "execution_count": 14
        }
      ]
    },
    {
      "cell_type": "markdown",
      "metadata": {
        "id": "OPSxvRU0nrYi"
      },
      "source": [
        "#Looking for correlations"
      ]
    },
    {
      "cell_type": "code",
      "metadata": {
        "colab": {
          "base_uri": "https://localhost:8080/"
        },
        "id": "fas5dgwWnifd",
        "outputId": "2b143576-17dc-47b3-f4b8-62d9e06b18e5"
      },
      "source": [
        "corr_matrix=housing.corr()\n",
        "corr_matrix['MEDV'].sort_values(ascending=False)"
      ],
      "execution_count": 15,
      "outputs": [
        {
          "output_type": "execute_result",
          "data": {
            "text/plain": [
              "MEDV       1.000000\n",
              "RM         0.696169\n",
              "ZN         0.360445\n",
              "B          0.333461\n",
              "DIS        0.249929\n",
              "CHAS       0.175260\n",
              "AGE       -0.376955\n",
              "RAD       -0.381626\n",
              "CRIM      -0.388305\n",
              "NOX       -0.427321\n",
              "TAX       -0.468536\n",
              "INDUS     -0.483725\n",
              "PTRATIO   -0.507787\n",
              "LSTAT     -0.737663\n",
              "Name: MEDV, dtype: float64"
            ]
          },
          "metadata": {
            "tags": []
          },
          "execution_count": 15
        }
      ]
    },
    {
      "cell_type": "code",
      "metadata": {
        "colab": {
          "base_uri": "https://localhost:8080/",
          "height": 789
        },
        "id": "Uy8QiCeTnxYL",
        "outputId": "8608ceff-3fc6-48b6-e02a-a4c3b3e2a20d"
      },
      "source": [
        "from pandas.plotting import scatter_matrix\n",
        "attributes = [\"MEDV\", \"RM\", \"ZN\", \"LSTAT\"]\n",
        "scatter_matrix(housing[attributes], figsize = (12,8))"
      ],
      "execution_count": 16,
      "outputs": [
        {
          "output_type": "execute_result",
          "data": {
            "text/plain": [
              "array([[<matplotlib.axes._subplots.AxesSubplot object at 0x7feba1b43290>,\n",
              "        <matplotlib.axes._subplots.AxesSubplot object at 0x7feba1b18ad0>,\n",
              "        <matplotlib.axes._subplots.AxesSubplot object at 0x7feba1a5c190>,\n",
              "        <matplotlib.axes._subplots.AxesSubplot object at 0x7feba1a92810>],\n",
              "       [<matplotlib.axes._subplots.AxesSubplot object at 0x7feba1a48e90>,\n",
              "        <matplotlib.axes._subplots.AxesSubplot object at 0x7feba1a0b550>,\n",
              "        <matplotlib.axes._subplots.AxesSubplot object at 0x7feba19bfc50>,\n",
              "        <matplotlib.axes._subplots.AxesSubplot object at 0x7feba19821d0>],\n",
              "       [<matplotlib.axes._subplots.AxesSubplot object at 0x7feba1982210>,\n",
              "        <matplotlib.axes._subplots.AxesSubplot object at 0x7feba1938990>,\n",
              "        <matplotlib.axes._subplots.AxesSubplot object at 0x7feba18b05d0>,\n",
              "        <matplotlib.axes._subplots.AxesSubplot object at 0x7feba1863c50>],\n",
              "       [<matplotlib.axes._subplots.AxesSubplot object at 0x7feba1826310>,\n",
              "        <matplotlib.axes._subplots.AxesSubplot object at 0x7feba185b990>,\n",
              "        <matplotlib.axes._subplots.AxesSubplot object at 0x7feba1811fd0>,\n",
              "        <matplotlib.axes._subplots.AxesSubplot object at 0x7feba17d16d0>]],\n",
              "      dtype=object)"
            ]
          },
          "metadata": {
            "tags": []
          },
          "execution_count": 16
        },
        {
          "output_type": "display_data",
          "data": {
            "image/png": "[encoded data removed]",
            "text/plain": [
              "<Figure size 864x576 with 16 Axes>"
            ]
          },
          "metadata": {
            "tags": [],
            "needs_background": "light"
          }
        }
      ]
    },
    {
      "cell_type": "code",
      "metadata": {
        "id": "GtAOD_txorEk"
      },
      "source": [
        "housing[\"TAXRM\"] = housing['TAX']/housing['RM']"
      ],
      "execution_count": 17,
      "outputs": []
    },
    {
      "cell_type": "code",
      "metadata": {
        "colab": {
          "base_uri": "https://localhost:8080/",
          "height": 195
        },
        "id": "QkMlG-KOozH6",
        "outputId": "f5b9d489-46a9-43d2-e569-54a1849d2568"
      },
      "source": [
        "housing.head()"
      ],
      "execution_count": 18,
      "outputs": [
        {
          "output_type": "execute_result",
          "data": {
            "text/html": [
              "<div>\n",
              "<style scoped>\n",
              "    .dataframe tbody tr th:only-of-type {\n",
              "        vertical-align: middle;\n",
              "    }\n",
              "\n",
              "    .dataframe tbody tr th {\n",
              "        vertical-align: top;\n",
              "    }\n",
              "\n",
              "    .dataframe thead th {\n",
              "        text-align: right;\n",
              "    }\n",
              "</style>\n",
              "<table border=\"1\" class=\"dataframe\">\n",
              "  <thead>\n",
              "    <tr style=\"text-align: right;\">\n",
              "      <th></th>\n",
              "      <th>CRIM</th>\n",
              "      <th>ZN</th>\n",
              "      <th>INDUS</th>\n",
              "      <th>CHAS</th>\n",
              "      <th>NOX</th>\n",
              "      <th>RM</th>\n",
              "      <th>AGE</th>\n",
              "      <th>DIS</th>\n",
              "      <th>RAD</th>\n",
              "      <th>TAX</th>\n",
              "      <th>PTRATIO</th>\n",
              "      <th>B</th>\n",
              "      <th>LSTAT</th>\n",
              "      <th>MEDV</th>\n",
              "      <th>TAXRM</th>\n",
              "    </tr>\n",
              "  </thead>\n",
              "  <tbody>\n",
              "    <tr>\n",
              "      <th>0</th>\n",
              "      <td>0.00632</td>\n",
              "      <td>18.0</td>\n",
              "      <td>2.31</td>\n",
              "      <td>0</td>\n",
              "      <td>0.538</td>\n",
              "      <td>6.575</td>\n",
              "      <td>65.2</td>\n",
              "      <td>4.0900</td>\n",
              "      <td>1</td>\n",
              "      <td>296</td>\n",
              "      <td>15.3</td>\n",
              "      <td>396.90</td>\n",
              "      <td>4.98</td>\n",
              "      <td>24.0</td>\n",
              "      <td>45.019011</td>\n",
              "    </tr>\n",
              "    <tr>\n",
              "      <th>1</th>\n",
              "      <td>0.02731</td>\n",
              "      <td>0.0</td>\n",
              "      <td>7.07</td>\n",
              "      <td>0</td>\n",
              "      <td>0.469</td>\n",
              "      <td>6.421</td>\n",
              "      <td>78.9</td>\n",
              "      <td>4.9671</td>\n",
              "      <td>2</td>\n",
              "      <td>242</td>\n",
              "      <td>17.8</td>\n",
              "      <td>396.90</td>\n",
              "      <td>9.14</td>\n",
              "      <td>21.6</td>\n",
              "      <td>37.688834</td>\n",
              "    </tr>\n",
              "    <tr>\n",
              "      <th>2</th>\n",
              "      <td>0.02729</td>\n",
              "      <td>0.0</td>\n",
              "      <td>7.07</td>\n",
              "      <td>0</td>\n",
              "      <td>0.469</td>\n",
              "      <td>7.185</td>\n",
              "      <td>61.1</td>\n",
              "      <td>4.9671</td>\n",
              "      <td>2</td>\n",
              "      <td>242</td>\n",
              "      <td>17.8</td>\n",
              "      <td>392.83</td>\n",
              "      <td>4.03</td>\n",
              "      <td>34.7</td>\n",
              "      <td>33.681280</td>\n",
              "    </tr>\n",
              "    <tr>\n",
              "      <th>3</th>\n",
              "      <td>0.03237</td>\n",
              "      <td>0.0</td>\n",
              "      <td>2.18</td>\n",
              "      <td>0</td>\n",
              "      <td>0.458</td>\n",
              "      <td>6.998</td>\n",
              "      <td>45.8</td>\n",
              "      <td>6.0622</td>\n",
              "      <td>3</td>\n",
              "      <td>222</td>\n",
              "      <td>18.7</td>\n",
              "      <td>394.63</td>\n",
              "      <td>2.94</td>\n",
              "      <td>33.4</td>\n",
              "      <td>31.723350</td>\n",
              "    </tr>\n",
              "    <tr>\n",
              "      <th>4</th>\n",
              "      <td>0.06905</td>\n",
              "      <td>0.0</td>\n",
              "      <td>2.18</td>\n",
              "      <td>0</td>\n",
              "      <td>0.458</td>\n",
              "      <td>7.147</td>\n",
              "      <td>54.2</td>\n",
              "      <td>6.0622</td>\n",
              "      <td>3</td>\n",
              "      <td>222</td>\n",
              "      <td>18.7</td>\n",
              "      <td>396.90</td>\n",
              "      <td>5.33</td>\n",
              "      <td>36.2</td>\n",
              "      <td>31.061984</td>\n",
              "    </tr>\n",
              "  </tbody>\n",
              "</table>\n",
              "</div>"
            ],
            "text/plain": [
              "      CRIM    ZN  INDUS  CHAS    NOX  ...  PTRATIO       B  LSTAT  MEDV      TAXRM\n",
              "0  0.00632  18.0   2.31     0  0.538  ...     15.3  396.90   4.98  24.0  45.019011\n",
              "1  0.02731   0.0   7.07     0  0.469  ...     17.8  396.90   9.14  21.6  37.688834\n",
              "2  0.02729   0.0   7.07     0  0.469  ...     17.8  392.83   4.03  34.7  33.681280\n",
              "3  0.03237   0.0   2.18     0  0.458  ...     18.7  394.63   2.94  33.4  31.723350\n",
              "4  0.06905   0.0   2.18     0  0.458  ...     18.7  396.90   5.33  36.2  31.061984\n",
              "\n",
              "[5 rows x 15 columns]"
            ]
          },
          "metadata": {
            "tags": []
          },
          "execution_count": 18
        }
      ]
    },
    {
      "cell_type": "code",
      "metadata": {
        "id": "GghKBJe1rFVl"
      },
      "source": [
        "housing = strat_train_set.drop(\"MEDV\", axis=1)\n",
        "housing_labels = strat_train_set[\"MEDV\"].copy()"
      ],
      "execution_count": 19,
      "outputs": []
    },
    {
      "cell_type": "markdown",
      "metadata": {
        "id": "JOKBkVCepicb"
      },
      "source": [
        "#for misssing Attribues\n",
        "\n",
        "To take care of missing attributes, you have three options:\n",
        "\n",
        " 1. Get rid of the missing data points\n",
        " 2. Get rid of the whole attribute\n",
        " 3. Set the value to some value(0, mean or median\n",
        "\n"
      ]
    },
    {
      "cell_type": "code",
      "metadata": {
        "colab": {
          "base_uri": "https://localhost:8080/"
        },
        "id": "mARqdDZkphka",
        "outputId": "6ef0b014-8d0d-4de8-dddf-32692b0aafaf"
      },
      "source": [
        "a= housing.dropna(subset=[\"RM\"]) #Option 1\n",
        "a.shape\n",
        "# Note that the original housing dataframe will remain unchanged"
      ],
      "execution_count": 20,
      "outputs": [
        {
          "output_type": "execute_result",
          "data": {
            "text/plain": [
              "(399, 13)"
            ]
          },
          "metadata": {
            "tags": []
          },
          "execution_count": 20
        }
      ]
    },
    {
      "cell_type": "code",
      "metadata": {
        "colab": {
          "base_uri": "https://localhost:8080/"
        },
        "id": "_gwPtaPAqBOo",
        "outputId": "c9286d2f-2c2c-49f1-f4bb-60aec06e5286"
      },
      "source": [
        "housing.drop(\"RM\", axis=1).shape # Option 2\n"
      ],
      "execution_count": 21,
      "outputs": [
        {
          "output_type": "execute_result",
          "data": {
            "text/plain": [
              "(404, 12)"
            ]
          },
          "metadata": {
            "tags": []
          },
          "execution_count": 21
        }
      ]
    },
    {
      "cell_type": "code",
      "metadata": {
        "colab": {
          "base_uri": "https://localhost:8080/"
        },
        "id": "smSSG8q1quqz",
        "outputId": "6b753e60-faef-412c-91c6-a2afe6b3ddd4"
      },
      "source": [
        "median = housing[\"RM\"].median() # Compute median for Option 3\n",
        "housing[\"RM\"].fillna(median) # Option 3\n",
        "\n"
      ],
      "execution_count": 22,
      "outputs": [
        {
          "output_type": "execute_result",
          "data": {
            "text/plain": [
              "254    6.108\n",
              "348    6.635\n",
              "476    6.484\n",
              "321    6.376\n",
              "326    6.312\n",
              "       ...  \n",
              "155    6.152\n",
              "423    6.103\n",
              "98     7.820\n",
              "455    6.525\n",
              "216    5.888\n",
              "Name: RM, Length: 404, dtype: float64"
            ]
          },
          "metadata": {
            "tags": []
          },
          "execution_count": 22
        }
      ]
    },
    {
      "cell_type": "code",
      "metadata": {
        "colab": {
          "base_uri": "https://localhost:8080/",
          "height": 304
        },
        "id": "XkUeTozarcra",
        "outputId": "623514e0-2d81-493d-a8e9-5acae9517d8c"
      },
      "source": [
        "housing.describe()"
      ],
      "execution_count": 23,
      "outputs": [
        {
          "output_type": "execute_result",
          "data": {
            "text/html": [
              "<div>\n",
              "<style scoped>\n",
              "    .dataframe tbody tr th:only-of-type {\n",
              "        vertical-align: middle;\n",
              "    }\n",
              "\n",
              "    .dataframe tbody tr th {\n",
              "        vertical-align: top;\n",
              "    }\n",
              "\n",
              "    .dataframe thead th {\n",
              "        text-align: right;\n",
              "    }\n",
              "</style>\n",
              "<table border=\"1\" class=\"dataframe\">\n",
              "  <thead>\n",
              "    <tr style=\"text-align: right;\">\n",
              "      <th></th>\n",
              "      <th>CRIM</th>\n",
              "      <th>ZN</th>\n",
              "      <th>INDUS</th>\n",
              "      <th>CHAS</th>\n",
              "      <th>NOX</th>\n",
              "      <th>RM</th>\n",
              "      <th>AGE</th>\n",
              "      <th>DIS</th>\n",
              "      <th>RAD</th>\n",
              "      <th>TAX</th>\n",
              "      <th>PTRATIO</th>\n",
              "      <th>B</th>\n",
              "      <th>LSTAT</th>\n",
              "    </tr>\n",
              "  </thead>\n",
              "  <tbody>\n",
              "    <tr>\n",
              "      <th>count</th>\n",
              "      <td>404.000000</td>\n",
              "      <td>404.000000</td>\n",
              "      <td>404.000000</td>\n",
              "      <td>404.000000</td>\n",
              "      <td>404.000000</td>\n",
              "      <td>399.000000</td>\n",
              "      <td>404.000000</td>\n",
              "      <td>404.000000</td>\n",
              "      <td>404.000000</td>\n",
              "      <td>404.000000</td>\n",
              "      <td>404.000000</td>\n",
              "      <td>404.000000</td>\n",
              "      <td>404.000000</td>\n",
              "    </tr>\n",
              "    <tr>\n",
              "      <th>mean</th>\n",
              "      <td>3.602814</td>\n",
              "      <td>10.836634</td>\n",
              "      <td>11.344950</td>\n",
              "      <td>0.069307</td>\n",
              "      <td>0.558064</td>\n",
              "      <td>6.279481</td>\n",
              "      <td>69.039851</td>\n",
              "      <td>3.746210</td>\n",
              "      <td>9.735149</td>\n",
              "      <td>412.341584</td>\n",
              "      <td>18.473267</td>\n",
              "      <td>353.392822</td>\n",
              "      <td>12.791609</td>\n",
              "    </tr>\n",
              "    <tr>\n",
              "      <th>std</th>\n",
              "      <td>8.099383</td>\n",
              "      <td>22.150636</td>\n",
              "      <td>6.877817</td>\n",
              "      <td>0.254290</td>\n",
              "      <td>0.116875</td>\n",
              "      <td>0.716784</td>\n",
              "      <td>28.258248</td>\n",
              "      <td>2.099057</td>\n",
              "      <td>8.731259</td>\n",
              "      <td>168.672623</td>\n",
              "      <td>2.129243</td>\n",
              "      <td>96.069235</td>\n",
              "      <td>7.235740</td>\n",
              "    </tr>\n",
              "    <tr>\n",
              "      <th>min</th>\n",
              "      <td>0.006320</td>\n",
              "      <td>0.000000</td>\n",
              "      <td>0.740000</td>\n",
              "      <td>0.000000</td>\n",
              "      <td>0.389000</td>\n",
              "      <td>3.561000</td>\n",
              "      <td>2.900000</td>\n",
              "      <td>1.129600</td>\n",
              "      <td>1.000000</td>\n",
              "      <td>187.000000</td>\n",
              "      <td>13.000000</td>\n",
              "      <td>0.320000</td>\n",
              "      <td>1.730000</td>\n",
              "    </tr>\n",
              "    <tr>\n",
              "      <th>25%</th>\n",
              "      <td>0.086963</td>\n",
              "      <td>0.000000</td>\n",
              "      <td>5.190000</td>\n",
              "      <td>0.000000</td>\n",
              "      <td>0.453000</td>\n",
              "      <td>5.876500</td>\n",
              "      <td>44.850000</td>\n",
              "      <td>2.035975</td>\n",
              "      <td>4.000000</td>\n",
              "      <td>284.000000</td>\n",
              "      <td>17.400000</td>\n",
              "      <td>374.617500</td>\n",
              "      <td>6.847500</td>\n",
              "    </tr>\n",
              "    <tr>\n",
              "      <th>50%</th>\n",
              "      <td>0.286735</td>\n",
              "      <td>0.000000</td>\n",
              "      <td>9.900000</td>\n",
              "      <td>0.000000</td>\n",
              "      <td>0.538000</td>\n",
              "      <td>6.209000</td>\n",
              "      <td>78.200000</td>\n",
              "      <td>3.122200</td>\n",
              "      <td>5.000000</td>\n",
              "      <td>337.000000</td>\n",
              "      <td>19.000000</td>\n",
              "      <td>390.955000</td>\n",
              "      <td>11.570000</td>\n",
              "    </tr>\n",
              "    <tr>\n",
              "      <th>75%</th>\n",
              "      <td>3.731923</td>\n",
              "      <td>12.500000</td>\n",
              "      <td>18.100000</td>\n",
              "      <td>0.000000</td>\n",
              "      <td>0.631000</td>\n",
              "      <td>6.630500</td>\n",
              "      <td>94.100000</td>\n",
              "      <td>5.100400</td>\n",
              "      <td>24.000000</td>\n",
              "      <td>666.000000</td>\n",
              "      <td>20.200000</td>\n",
              "      <td>395.630000</td>\n",
              "      <td>17.102500</td>\n",
              "    </tr>\n",
              "    <tr>\n",
              "      <th>max</th>\n",
              "      <td>73.534100</td>\n",
              "      <td>100.000000</td>\n",
              "      <td>27.740000</td>\n",
              "      <td>1.000000</td>\n",
              "      <td>0.871000</td>\n",
              "      <td>8.780000</td>\n",
              "      <td>100.000000</td>\n",
              "      <td>12.126500</td>\n",
              "      <td>24.000000</td>\n",
              "      <td>711.000000</td>\n",
              "      <td>22.000000</td>\n",
              "      <td>396.900000</td>\n",
              "      <td>36.980000</td>\n",
              "    </tr>\n",
              "  </tbody>\n",
              "</table>\n",
              "</div>"
            ],
            "text/plain": [
              "             CRIM          ZN       INDUS  ...     PTRATIO           B       LSTAT\n",
              "count  404.000000  404.000000  404.000000  ...  404.000000  404.000000  404.000000\n",
              "mean     3.602814   10.836634   11.344950  ...   18.473267  353.392822   12.791609\n",
              "std      8.099383   22.150636    6.877817  ...    2.129243   96.069235    7.235740\n",
              "min      0.006320    0.000000    0.740000  ...   13.000000    0.320000    1.730000\n",
              "25%      0.086963    0.000000    5.190000  ...   17.400000  374.617500    6.847500\n",
              "50%      0.286735    0.000000    9.900000  ...   19.000000  390.955000   11.570000\n",
              "75%      3.731923   12.500000   18.100000  ...   20.200000  395.630000   17.102500\n",
              "max     73.534100  100.000000   27.740000  ...   22.000000  396.900000   36.980000\n",
              "\n",
              "[8 rows x 13 columns]"
            ]
          },
          "metadata": {
            "tags": []
          },
          "execution_count": 23
        }
      ]
    },
    {
      "cell_type": "code",
      "metadata": {
        "colab": {
          "base_uri": "https://localhost:8080/",
          "height": 284
        },
        "id": "3qYNfmLJrfZl",
        "outputId": "4c66efbf-1ac5-402b-e49b-f5993bc9db8e"
      },
      "source": [
        "cpr=housing.drop([\"RM\"],axis=1)\n",
        "cpr.describe()"
      ],
      "execution_count": 24,
      "outputs": [
        {
          "output_type": "execute_result",
          "data": {
            "text/html": [
              "<div>\n",
              "<style scoped>\n",
              "    .dataframe tbody tr th:only-of-type {\n",
              "        vertical-align: middle;\n",
              "    }\n",
              "\n",
              "    .dataframe tbody tr th {\n",
              "        vertical-align: top;\n",
              "    }\n",
              "\n",
              "    .dataframe thead th {\n",
              "        text-align: right;\n",
              "    }\n",
              "</style>\n",
              "<table border=\"1\" class=\"dataframe\">\n",
              "  <thead>\n",
              "    <tr style=\"text-align: right;\">\n",
              "      <th></th>\n",
              "      <th>CRIM</th>\n",
              "      <th>ZN</th>\n",
              "      <th>INDUS</th>\n",
              "      <th>CHAS</th>\n",
              "      <th>NOX</th>\n",
              "      <th>AGE</th>\n",
              "      <th>DIS</th>\n",
              "      <th>RAD</th>\n",
              "      <th>TAX</th>\n",
              "      <th>PTRATIO</th>\n",
              "      <th>B</th>\n",
              "      <th>LSTAT</th>\n",
              "    </tr>\n",
              "  </thead>\n",
              "  <tbody>\n",
              "    <tr>\n",
              "      <th>count</th>\n",
              "      <td>404.000000</td>\n",
              "      <td>404.000000</td>\n",
              "      <td>404.000000</td>\n",
              "      <td>404.000000</td>\n",
              "      <td>404.000000</td>\n",
              "      <td>404.000000</td>\n",
              "      <td>404.000000</td>\n",
              "      <td>404.000000</td>\n",
              "      <td>404.000000</td>\n",
              "      <td>404.000000</td>\n",
              "      <td>404.000000</td>\n",
              "      <td>404.000000</td>\n",
              "    </tr>\n",
              "    <tr>\n",
              "      <th>mean</th>\n",
              "      <td>3.602814</td>\n",
              "      <td>10.836634</td>\n",
              "      <td>11.344950</td>\n",
              "      <td>0.069307</td>\n",
              "      <td>0.558064</td>\n",
              "      <td>69.039851</td>\n",
              "      <td>3.746210</td>\n",
              "      <td>9.735149</td>\n",
              "      <td>412.341584</td>\n",
              "      <td>18.473267</td>\n",
              "      <td>353.392822</td>\n",
              "      <td>12.791609</td>\n",
              "    </tr>\n",
              "    <tr>\n",
              "      <th>std</th>\n",
              "      <td>8.099383</td>\n",
              "      <td>22.150636</td>\n",
              "      <td>6.877817</td>\n",
              "      <td>0.254290</td>\n",
              "      <td>0.116875</td>\n",
              "      <td>28.258248</td>\n",
              "      <td>2.099057</td>\n",
              "      <td>8.731259</td>\n",
              "      <td>168.672623</td>\n",
              "      <td>2.129243</td>\n",
              "      <td>96.069235</td>\n",
              "      <td>7.235740</td>\n",
              "    </tr>\n",
              "    <tr>\n",
              "      <th>min</th>\n",
              "      <td>0.006320</td>\n",
              "      <td>0.000000</td>\n",
              "      <td>0.740000</td>\n",
              "      <td>0.000000</td>\n",
              "      <td>0.389000</td>\n",
              "      <td>2.900000</td>\n",
              "      <td>1.129600</td>\n",
              "      <td>1.000000</td>\n",
              "      <td>187.000000</td>\n",
              "      <td>13.000000</td>\n",
              "      <td>0.320000</td>\n",
              "      <td>1.730000</td>\n",
              "    </tr>\n",
              "    <tr>\n",
              "      <th>25%</th>\n",
              "      <td>0.086963</td>\n",
              "      <td>0.000000</td>\n",
              "      <td>5.190000</td>\n",
              "      <td>0.000000</td>\n",
              "      <td>0.453000</td>\n",
              "      <td>44.850000</td>\n",
              "      <td>2.035975</td>\n",
              "      <td>4.000000</td>\n",
              "      <td>284.000000</td>\n",
              "      <td>17.400000</td>\n",
              "      <td>374.617500</td>\n",
              "      <td>6.847500</td>\n",
              "    </tr>\n",
              "    <tr>\n",
              "      <th>50%</th>\n",
              "      <td>0.286735</td>\n",
              "      <td>0.000000</td>\n",
              "      <td>9.900000</td>\n",
              "      <td>0.000000</td>\n",
              "      <td>0.538000</td>\n",
              "      <td>78.200000</td>\n",
              "      <td>3.122200</td>\n",
              "      <td>5.000000</td>\n",
              "      <td>337.000000</td>\n",
              "      <td>19.000000</td>\n",
              "      <td>390.955000</td>\n",
              "      <td>11.570000</td>\n",
              "    </tr>\n",
              "    <tr>\n",
              "      <th>75%</th>\n",
              "      <td>3.731923</td>\n",
              "      <td>12.500000</td>\n",
              "      <td>18.100000</td>\n",
              "      <td>0.000000</td>\n",
              "      <td>0.631000</td>\n",
              "      <td>94.100000</td>\n",
              "      <td>5.100400</td>\n",
              "      <td>24.000000</td>\n",
              "      <td>666.000000</td>\n",
              "      <td>20.200000</td>\n",
              "      <td>395.630000</td>\n",
              "      <td>17.102500</td>\n",
              "    </tr>\n",
              "    <tr>\n",
              "      <th>max</th>\n",
              "      <td>73.534100</td>\n",
              "      <td>100.000000</td>\n",
              "      <td>27.740000</td>\n",
              "      <td>1.000000</td>\n",
              "      <td>0.871000</td>\n",
              "      <td>100.000000</td>\n",
              "      <td>12.126500</td>\n",
              "      <td>24.000000</td>\n",
              "      <td>711.000000</td>\n",
              "      <td>22.000000</td>\n",
              "      <td>396.900000</td>\n",
              "      <td>36.980000</td>\n",
              "    </tr>\n",
              "  </tbody>\n",
              "</table>\n",
              "</div>"
            ],
            "text/plain": [
              "             CRIM          ZN       INDUS  ...     PTRATIO           B       LSTAT\n",
              "count  404.000000  404.000000  404.000000  ...  404.000000  404.000000  404.000000\n",
              "mean     3.602814   10.836634   11.344950  ...   18.473267  353.392822   12.791609\n",
              "std      8.099383   22.150636    6.877817  ...    2.129243   96.069235    7.235740\n",
              "min      0.006320    0.000000    0.740000  ...   13.000000    0.320000    1.730000\n",
              "25%      0.086963    0.000000    5.190000  ...   17.400000  374.617500    6.847500\n",
              "50%      0.286735    0.000000    9.900000  ...   19.000000  390.955000   11.570000\n",
              "75%      3.731923   12.500000   18.100000  ...   20.200000  395.630000   17.102500\n",
              "max     73.534100  100.000000   27.740000  ...   22.000000  396.900000   36.980000\n",
              "\n",
              "[8 rows x 12 columns]"
            ]
          },
          "metadata": {
            "tags": []
          },
          "execution_count": 24
        }
      ]
    },
    {
      "cell_type": "code",
      "metadata": {
        "colab": {
          "base_uri": "https://localhost:8080/",
          "height": 304
        },
        "id": "XQlk1NXatAkn",
        "outputId": "d1d182ad-f330-46e5-babe-554e5f0ac2a3"
      },
      "source": [
        "housing.describe()"
      ],
      "execution_count": 25,
      "outputs": [
        {
          "output_type": "execute_result",
          "data": {
            "text/html": [
              "<div>\n",
              "<style scoped>\n",
              "    .dataframe tbody tr th:only-of-type {\n",
              "        vertical-align: middle;\n",
              "    }\n",
              "\n",
              "    .dataframe tbody tr th {\n",
              "        vertical-align: top;\n",
              "    }\n",
              "\n",
              "    .dataframe thead th {\n",
              "        text-align: right;\n",
              "    }\n",
              "</style>\n",
              "<table border=\"1\" class=\"dataframe\">\n",
              "  <thead>\n",
              "    <tr style=\"text-align: right;\">\n",
              "      <th></th>\n",
              "      <th>CRIM</th>\n",
              "      <th>ZN</th>\n",
              "      <th>INDUS</th>\n",
              "      <th>CHAS</th>\n",
              "      <th>NOX</th>\n",
              "      <th>RM</th>\n",
              "      <th>AGE</th>\n",
              "      <th>DIS</th>\n",
              "      <th>RAD</th>\n",
              "      <th>TAX</th>\n",
              "      <th>PTRATIO</th>\n",
              "      <th>B</th>\n",
              "      <th>LSTAT</th>\n",
              "    </tr>\n",
              "  </thead>\n",
              "  <tbody>\n",
              "    <tr>\n",
              "      <th>count</th>\n",
              "      <td>404.000000</td>\n",
              "      <td>404.000000</td>\n",
              "      <td>404.000000</td>\n",
              "      <td>404.000000</td>\n",
              "      <td>404.000000</td>\n",
              "      <td>399.000000</td>\n",
              "      <td>404.000000</td>\n",
              "      <td>404.000000</td>\n",
              "      <td>404.000000</td>\n",
              "      <td>404.000000</td>\n",
              "      <td>404.000000</td>\n",
              "      <td>404.000000</td>\n",
              "      <td>404.000000</td>\n",
              "    </tr>\n",
              "    <tr>\n",
              "      <th>mean</th>\n",
              "      <td>3.602814</td>\n",
              "      <td>10.836634</td>\n",
              "      <td>11.344950</td>\n",
              "      <td>0.069307</td>\n",
              "      <td>0.558064</td>\n",
              "      <td>6.279481</td>\n",
              "      <td>69.039851</td>\n",
              "      <td>3.746210</td>\n",
              "      <td>9.735149</td>\n",
              "      <td>412.341584</td>\n",
              "      <td>18.473267</td>\n",
              "      <td>353.392822</td>\n",
              "      <td>12.791609</td>\n",
              "    </tr>\n",
              "    <tr>\n",
              "      <th>std</th>\n",
              "      <td>8.099383</td>\n",
              "      <td>22.150636</td>\n",
              "      <td>6.877817</td>\n",
              "      <td>0.254290</td>\n",
              "      <td>0.116875</td>\n",
              "      <td>0.716784</td>\n",
              "      <td>28.258248</td>\n",
              "      <td>2.099057</td>\n",
              "      <td>8.731259</td>\n",
              "      <td>168.672623</td>\n",
              "      <td>2.129243</td>\n",
              "      <td>96.069235</td>\n",
              "      <td>7.235740</td>\n",
              "    </tr>\n",
              "    <tr>\n",
              "      <th>min</th>\n",
              "      <td>0.006320</td>\n",
              "      <td>0.000000</td>\n",
              "      <td>0.740000</td>\n",
              "      <td>0.000000</td>\n",
              "      <td>0.389000</td>\n",
              "      <td>3.561000</td>\n",
              "      <td>2.900000</td>\n",
              "      <td>1.129600</td>\n",
              "      <td>1.000000</td>\n",
              "      <td>187.000000</td>\n",
              "      <td>13.000000</td>\n",
              "      <td>0.320000</td>\n",
              "      <td>1.730000</td>\n",
              "    </tr>\n",
              "    <tr>\n",
              "      <th>25%</th>\n",
              "      <td>0.086963</td>\n",
              "      <td>0.000000</td>\n",
              "      <td>5.190000</td>\n",
              "      <td>0.000000</td>\n",
              "      <td>0.453000</td>\n",
              "      <td>5.876500</td>\n",
              "      <td>44.850000</td>\n",
              "      <td>2.035975</td>\n",
              "      <td>4.000000</td>\n",
              "      <td>284.000000</td>\n",
              "      <td>17.400000</td>\n",
              "      <td>374.617500</td>\n",
              "      <td>6.847500</td>\n",
              "    </tr>\n",
              "    <tr>\n",
              "      <th>50%</th>\n",
              "      <td>0.286735</td>\n",
              "      <td>0.000000</td>\n",
              "      <td>9.900000</td>\n",
              "      <td>0.000000</td>\n",
              "      <td>0.538000</td>\n",
              "      <td>6.209000</td>\n",
              "      <td>78.200000</td>\n",
              "      <td>3.122200</td>\n",
              "      <td>5.000000</td>\n",
              "      <td>337.000000</td>\n",
              "      <td>19.000000</td>\n",
              "      <td>390.955000</td>\n",
              "      <td>11.570000</td>\n",
              "    </tr>\n",
              "    <tr>\n",
              "      <th>75%</th>\n",
              "      <td>3.731923</td>\n",
              "      <td>12.500000</td>\n",
              "      <td>18.100000</td>\n",
              "      <td>0.000000</td>\n",
              "      <td>0.631000</td>\n",
              "      <td>6.630500</td>\n",
              "      <td>94.100000</td>\n",
              "      <td>5.100400</td>\n",
              "      <td>24.000000</td>\n",
              "      <td>666.000000</td>\n",
              "      <td>20.200000</td>\n",
              "      <td>395.630000</td>\n",
              "      <td>17.102500</td>\n",
              "    </tr>\n",
              "    <tr>\n",
              "      <th>max</th>\n",
              "      <td>73.534100</td>\n",
              "      <td>100.000000</td>\n",
              "      <td>27.740000</td>\n",
              "      <td>1.000000</td>\n",
              "      <td>0.871000</td>\n",
              "      <td>8.780000</td>\n",
              "      <td>100.000000</td>\n",
              "      <td>12.126500</td>\n",
              "      <td>24.000000</td>\n",
              "      <td>711.000000</td>\n",
              "      <td>22.000000</td>\n",
              "      <td>396.900000</td>\n",
              "      <td>36.980000</td>\n",
              "    </tr>\n",
              "  </tbody>\n",
              "</table>\n",
              "</div>"
            ],
            "text/plain": [
              "             CRIM          ZN       INDUS  ...     PTRATIO           B       LSTAT\n",
              "count  404.000000  404.000000  404.000000  ...  404.000000  404.000000  404.000000\n",
              "mean     3.602814   10.836634   11.344950  ...   18.473267  353.392822   12.791609\n",
              "std      8.099383   22.150636    6.877817  ...    2.129243   96.069235    7.235740\n",
              "min      0.006320    0.000000    0.740000  ...   13.000000    0.320000    1.730000\n",
              "25%      0.086963    0.000000    5.190000  ...   17.400000  374.617500    6.847500\n",
              "50%      0.286735    0.000000    9.900000  ...   19.000000  390.955000   11.570000\n",
              "75%      3.731923   12.500000   18.100000  ...   20.200000  395.630000   17.102500\n",
              "max     73.534100  100.000000   27.740000  ...   22.000000  396.900000   36.980000\n",
              "\n",
              "[8 rows x 13 columns]"
            ]
          },
          "metadata": {
            "tags": []
          },
          "execution_count": 25
        }
      ]
    },
    {
      "cell_type": "code",
      "metadata": {
        "colab": {
          "base_uri": "https://localhost:8080/"
        },
        "id": "lCSjbmC8tHPj",
        "outputId": "d31a8c0f-16f5-4bf1-8061-943d0a49cb54"
      },
      "source": [
        "from sklearn.impute import SimpleImputer\n",
        "imputer=SimpleImputer(strategy='median')\n",
        "imputer.fit(housing)"
      ],
      "execution_count": 26,
      "outputs": [
        {
          "output_type": "execute_result",
          "data": {
            "text/plain": [
              "SimpleImputer(add_indicator=False, copy=True, fill_value=None,\n",
              "              missing_values=nan, strategy='median', verbose=0)"
            ]
          },
          "metadata": {
            "tags": []
          },
          "execution_count": 26
        }
      ]
    },
    {
      "cell_type": "code",
      "metadata": {
        "colab": {
          "base_uri": "https://localhost:8080/"
        },
        "id": "bCKsyES1uEot",
        "outputId": "17199890-4907-472d-d1a2-eb86edeb4f46"
      },
      "source": [
        "imputer.statistics_"
      ],
      "execution_count": 27,
      "outputs": [
        {
          "output_type": "execute_result",
          "data": {
            "text/plain": [
              "array([2.86735e-01, 0.00000e+00, 9.90000e+00, 0.00000e+00, 5.38000e-01,\n",
              "       6.20900e+00, 7.82000e+01, 3.12220e+00, 5.00000e+00, 3.37000e+02,\n",
              "       1.90000e+01, 3.90955e+02, 1.15700e+01])"
            ]
          },
          "metadata": {
            "tags": []
          },
          "execution_count": 27
        }
      ]
    },
    {
      "cell_type": "code",
      "metadata": {
        "colab": {
          "base_uri": "https://localhost:8080/",
          "height": 304
        },
        "id": "RrVQLAlZug50",
        "outputId": "e89e4a4d-8758-4845-9ead-30ce90ad9bd1"
      },
      "source": [
        "housing.describe()"
      ],
      "execution_count": 28,
      "outputs": [
        {
          "output_type": "execute_result",
          "data": {
            "text/html": [
              "<div>\n",
              "<style scoped>\n",
              "    .dataframe tbody tr th:only-of-type {\n",
              "        vertical-align: middle;\n",
              "    }\n",
              "\n",
              "    .dataframe tbody tr th {\n",
              "        vertical-align: top;\n",
              "    }\n",
              "\n",
              "    .dataframe thead th {\n",
              "        text-align: right;\n",
              "    }\n",
              "</style>\n",
              "<table border=\"1\" class=\"dataframe\">\n",
              "  <thead>\n",
              "    <tr style=\"text-align: right;\">\n",
              "      <th></th>\n",
              "      <th>CRIM</th>\n",
              "      <th>ZN</th>\n",
              "      <th>INDUS</th>\n",
              "      <th>CHAS</th>\n",
              "      <th>NOX</th>\n",
              "      <th>RM</th>\n",
              "      <th>AGE</th>\n",
              "      <th>DIS</th>\n",
              "      <th>RAD</th>\n",
              "      <th>TAX</th>\n",
              "      <th>PTRATIO</th>\n",
              "      <th>B</th>\n",
              "      <th>LSTAT</th>\n",
              "    </tr>\n",
              "  </thead>\n",
              "  <tbody>\n",
              "    <tr>\n",
              "      <th>count</th>\n",
              "      <td>404.000000</td>\n",
              "      <td>404.000000</td>\n",
              "      <td>404.000000</td>\n",
              "      <td>404.000000</td>\n",
              "      <td>404.000000</td>\n",
              "      <td>399.000000</td>\n",
              "      <td>404.000000</td>\n",
              "      <td>404.000000</td>\n",
              "      <td>404.000000</td>\n",
              "      <td>404.000000</td>\n",
              "      <td>404.000000</td>\n",
              "      <td>404.000000</td>\n",
              "      <td>404.000000</td>\n",
              "    </tr>\n",
              "    <tr>\n",
              "      <th>mean</th>\n",
              "      <td>3.602814</td>\n",
              "      <td>10.836634</td>\n",
              "      <td>11.344950</td>\n",
              "      <td>0.069307</td>\n",
              "      <td>0.558064</td>\n",
              "      <td>6.279481</td>\n",
              "      <td>69.039851</td>\n",
              "      <td>3.746210</td>\n",
              "      <td>9.735149</td>\n",
              "      <td>412.341584</td>\n",
              "      <td>18.473267</td>\n",
              "      <td>353.392822</td>\n",
              "      <td>12.791609</td>\n",
              "    </tr>\n",
              "    <tr>\n",
              "      <th>std</th>\n",
              "      <td>8.099383</td>\n",
              "      <td>22.150636</td>\n",
              "      <td>6.877817</td>\n",
              "      <td>0.254290</td>\n",
              "      <td>0.116875</td>\n",
              "      <td>0.716784</td>\n",
              "      <td>28.258248</td>\n",
              "      <td>2.099057</td>\n",
              "      <td>8.731259</td>\n",
              "      <td>168.672623</td>\n",
              "      <td>2.129243</td>\n",
              "      <td>96.069235</td>\n",
              "      <td>7.235740</td>\n",
              "    </tr>\n",
              "    <tr>\n",
              "      <th>min</th>\n",
              "      <td>0.006320</td>\n",
              "      <td>0.000000</td>\n",
              "      <td>0.740000</td>\n",
              "      <td>0.000000</td>\n",
              "      <td>0.389000</td>\n",
              "      <td>3.561000</td>\n",
              "      <td>2.900000</td>\n",
              "      <td>1.129600</td>\n",
              "      <td>1.000000</td>\n",
              "      <td>187.000000</td>\n",
              "      <td>13.000000</td>\n",
              "      <td>0.320000</td>\n",
              "      <td>1.730000</td>\n",
              "    </tr>\n",
              "    <tr>\n",
              "      <th>25%</th>\n",
              "      <td>0.086963</td>\n",
              "      <td>0.000000</td>\n",
              "      <td>5.190000</td>\n",
              "      <td>0.000000</td>\n",
              "      <td>0.453000</td>\n",
              "      <td>5.876500</td>\n",
              "      <td>44.850000</td>\n",
              "      <td>2.035975</td>\n",
              "      <td>4.000000</td>\n",
              "      <td>284.000000</td>\n",
              "      <td>17.400000</td>\n",
              "      <td>374.617500</td>\n",
              "      <td>6.847500</td>\n",
              "    </tr>\n",
              "    <tr>\n",
              "      <th>50%</th>\n",
              "      <td>0.286735</td>\n",
              "      <td>0.000000</td>\n",
              "      <td>9.900000</td>\n",
              "      <td>0.000000</td>\n",
              "      <td>0.538000</td>\n",
              "      <td>6.209000</td>\n",
              "      <td>78.200000</td>\n",
              "      <td>3.122200</td>\n",
              "      <td>5.000000</td>\n",
              "      <td>337.000000</td>\n",
              "      <td>19.000000</td>\n",
              "      <td>390.955000</td>\n",
              "      <td>11.570000</td>\n",
              "    </tr>\n",
              "    <tr>\n",
              "      <th>75%</th>\n",
              "      <td>3.731923</td>\n",
              "      <td>12.500000</td>\n",
              "      <td>18.100000</td>\n",
              "      <td>0.000000</td>\n",
              "      <td>0.631000</td>\n",
              "      <td>6.630500</td>\n",
              "      <td>94.100000</td>\n",
              "      <td>5.100400</td>\n",
              "      <td>24.000000</td>\n",
              "      <td>666.000000</td>\n",
              "      <td>20.200000</td>\n",
              "      <td>395.630000</td>\n",
              "      <td>17.102500</td>\n",
              "    </tr>\n",
              "    <tr>\n",
              "      <th>max</th>\n",
              "      <td>73.534100</td>\n",
              "      <td>100.000000</td>\n",
              "      <td>27.740000</td>\n",
              "      <td>1.000000</td>\n",
              "      <td>0.871000</td>\n",
              "      <td>8.780000</td>\n",
              "      <td>100.000000</td>\n",
              "      <td>12.126500</td>\n",
              "      <td>24.000000</td>\n",
              "      <td>711.000000</td>\n",
              "      <td>22.000000</td>\n",
              "      <td>396.900000</td>\n",
              "      <td>36.980000</td>\n",
              "    </tr>\n",
              "  </tbody>\n",
              "</table>\n",
              "</div>"
            ],
            "text/plain": [
              "             CRIM          ZN       INDUS  ...     PTRATIO           B       LSTAT\n",
              "count  404.000000  404.000000  404.000000  ...  404.000000  404.000000  404.000000\n",
              "mean     3.602814   10.836634   11.344950  ...   18.473267  353.392822   12.791609\n",
              "std      8.099383   22.150636    6.877817  ...    2.129243   96.069235    7.235740\n",
              "min      0.006320    0.000000    0.740000  ...   13.000000    0.320000    1.730000\n",
              "25%      0.086963    0.000000    5.190000  ...   17.400000  374.617500    6.847500\n",
              "50%      0.286735    0.000000    9.900000  ...   19.000000  390.955000   11.570000\n",
              "75%      3.731923   12.500000   18.100000  ...   20.200000  395.630000   17.102500\n",
              "max     73.534100  100.000000   27.740000  ...   22.000000  396.900000   36.980000\n",
              "\n",
              "[8 rows x 13 columns]"
            ]
          },
          "metadata": {
            "tags": []
          },
          "execution_count": 28
        }
      ]
    },
    {
      "cell_type": "code",
      "metadata": {
        "id": "UPp5nggYvbzX"
      },
      "source": [
        "X = imputer.transform(housing)\n",
        "housing_tr = pd.DataFrame(X, columns=housing.columns)"
      ],
      "execution_count": 29,
      "outputs": []
    },
    {
      "cell_type": "code",
      "metadata": {
        "colab": {
          "base_uri": "https://localhost:8080/",
          "height": 304
        },
        "id": "mMPUY4kDvr61",
        "outputId": "56b1e983-fec8-42d3-caee-2af6d7126b39"
      },
      "source": [
        "housing_tr.describe()"
      ],
      "execution_count": 30,
      "outputs": [
        {
          "output_type": "execute_result",
          "data": {
            "text/html": [
              "<div>\n",
              "<style scoped>\n",
              "    .dataframe tbody tr th:only-of-type {\n",
              "        vertical-align: middle;\n",
              "    }\n",
              "\n",
              "    .dataframe tbody tr th {\n",
              "        vertical-align: top;\n",
              "    }\n",
              "\n",
              "    .dataframe thead th {\n",
              "        text-align: right;\n",
              "    }\n",
              "</style>\n",
              "<table border=\"1\" class=\"dataframe\">\n",
              "  <thead>\n",
              "    <tr style=\"text-align: right;\">\n",
              "      <th></th>\n",
              "      <th>CRIM</th>\n",
              "      <th>ZN</th>\n",
              "      <th>INDUS</th>\n",
              "      <th>CHAS</th>\n",
              "      <th>NOX</th>\n",
              "      <th>RM</th>\n",
              "      <th>AGE</th>\n",
              "      <th>DIS</th>\n",
              "      <th>RAD</th>\n",
              "      <th>TAX</th>\n",
              "      <th>PTRATIO</th>\n",
              "      <th>B</th>\n",
              "      <th>LSTAT</th>\n",
              "    </tr>\n",
              "  </thead>\n",
              "  <tbody>\n",
              "    <tr>\n",
              "      <th>count</th>\n",
              "      <td>404.000000</td>\n",
              "      <td>404.000000</td>\n",
              "      <td>404.000000</td>\n",
              "      <td>404.000000</td>\n",
              "      <td>404.000000</td>\n",
              "      <td>404.000000</td>\n",
              "      <td>404.000000</td>\n",
              "      <td>404.000000</td>\n",
              "      <td>404.000000</td>\n",
              "      <td>404.000000</td>\n",
              "      <td>404.000000</td>\n",
              "      <td>404.000000</td>\n",
              "      <td>404.000000</td>\n",
              "    </tr>\n",
              "    <tr>\n",
              "      <th>mean</th>\n",
              "      <td>3.602814</td>\n",
              "      <td>10.836634</td>\n",
              "      <td>11.344950</td>\n",
              "      <td>0.069307</td>\n",
              "      <td>0.558064</td>\n",
              "      <td>6.278609</td>\n",
              "      <td>69.039851</td>\n",
              "      <td>3.746210</td>\n",
              "      <td>9.735149</td>\n",
              "      <td>412.341584</td>\n",
              "      <td>18.473267</td>\n",
              "      <td>353.392822</td>\n",
              "      <td>12.791609</td>\n",
              "    </tr>\n",
              "    <tr>\n",
              "      <th>std</th>\n",
              "      <td>8.099383</td>\n",
              "      <td>22.150636</td>\n",
              "      <td>6.877817</td>\n",
              "      <td>0.254290</td>\n",
              "      <td>0.116875</td>\n",
              "      <td>0.712366</td>\n",
              "      <td>28.258248</td>\n",
              "      <td>2.099057</td>\n",
              "      <td>8.731259</td>\n",
              "      <td>168.672623</td>\n",
              "      <td>2.129243</td>\n",
              "      <td>96.069235</td>\n",
              "      <td>7.235740</td>\n",
              "    </tr>\n",
              "    <tr>\n",
              "      <th>min</th>\n",
              "      <td>0.006320</td>\n",
              "      <td>0.000000</td>\n",
              "      <td>0.740000</td>\n",
              "      <td>0.000000</td>\n",
              "      <td>0.389000</td>\n",
              "      <td>3.561000</td>\n",
              "      <td>2.900000</td>\n",
              "      <td>1.129600</td>\n",
              "      <td>1.000000</td>\n",
              "      <td>187.000000</td>\n",
              "      <td>13.000000</td>\n",
              "      <td>0.320000</td>\n",
              "      <td>1.730000</td>\n",
              "    </tr>\n",
              "    <tr>\n",
              "      <th>25%</th>\n",
              "      <td>0.086963</td>\n",
              "      <td>0.000000</td>\n",
              "      <td>5.190000</td>\n",
              "      <td>0.000000</td>\n",
              "      <td>0.453000</td>\n",
              "      <td>5.878750</td>\n",
              "      <td>44.850000</td>\n",
              "      <td>2.035975</td>\n",
              "      <td>4.000000</td>\n",
              "      <td>284.000000</td>\n",
              "      <td>17.400000</td>\n",
              "      <td>374.617500</td>\n",
              "      <td>6.847500</td>\n",
              "    </tr>\n",
              "    <tr>\n",
              "      <th>50%</th>\n",
              "      <td>0.286735</td>\n",
              "      <td>0.000000</td>\n",
              "      <td>9.900000</td>\n",
              "      <td>0.000000</td>\n",
              "      <td>0.538000</td>\n",
              "      <td>6.209000</td>\n",
              "      <td>78.200000</td>\n",
              "      <td>3.122200</td>\n",
              "      <td>5.000000</td>\n",
              "      <td>337.000000</td>\n",
              "      <td>19.000000</td>\n",
              "      <td>390.955000</td>\n",
              "      <td>11.570000</td>\n",
              "    </tr>\n",
              "    <tr>\n",
              "      <th>75%</th>\n",
              "      <td>3.731923</td>\n",
              "      <td>12.500000</td>\n",
              "      <td>18.100000</td>\n",
              "      <td>0.000000</td>\n",
              "      <td>0.631000</td>\n",
              "      <td>6.630000</td>\n",
              "      <td>94.100000</td>\n",
              "      <td>5.100400</td>\n",
              "      <td>24.000000</td>\n",
              "      <td>666.000000</td>\n",
              "      <td>20.200000</td>\n",
              "      <td>395.630000</td>\n",
              "      <td>17.102500</td>\n",
              "    </tr>\n",
              "    <tr>\n",
              "      <th>max</th>\n",
              "      <td>73.534100</td>\n",
              "      <td>100.000000</td>\n",
              "      <td>27.740000</td>\n",
              "      <td>1.000000</td>\n",
              "      <td>0.871000</td>\n",
              "      <td>8.780000</td>\n",
              "      <td>100.000000</td>\n",
              "      <td>12.126500</td>\n",
              "      <td>24.000000</td>\n",
              "      <td>711.000000</td>\n",
              "      <td>22.000000</td>\n",
              "      <td>396.900000</td>\n",
              "      <td>36.980000</td>\n",
              "    </tr>\n",
              "  </tbody>\n",
              "</table>\n",
              "</div>"
            ],
            "text/plain": [
              "             CRIM          ZN       INDUS  ...     PTRATIO           B       LSTAT\n",
              "count  404.000000  404.000000  404.000000  ...  404.000000  404.000000  404.000000\n",
              "mean     3.602814   10.836634   11.344950  ...   18.473267  353.392822   12.791609\n",
              "std      8.099383   22.150636    6.877817  ...    2.129243   96.069235    7.235740\n",
              "min      0.006320    0.000000    0.740000  ...   13.000000    0.320000    1.730000\n",
              "25%      0.086963    0.000000    5.190000  ...   17.400000  374.617500    6.847500\n",
              "50%      0.286735    0.000000    9.900000  ...   19.000000  390.955000   11.570000\n",
              "75%      3.731923   12.500000   18.100000  ...   20.200000  395.630000   17.102500\n",
              "max     73.534100  100.000000   27.740000  ...   22.000000  396.900000   36.980000\n",
              "\n",
              "[8 rows x 13 columns]"
            ]
          },
          "metadata": {
            "tags": []
          },
          "execution_count": 30
        }
      ]
    },
    {
      "cell_type": "code",
      "metadata": {
        "colab": {
          "base_uri": "https://localhost:8080/",
          "height": 304
        },
        "id": "JWnZkyMyv_LC",
        "outputId": "55a3f7f2-dd72-48a6-b5fa-74fedb204838"
      },
      "source": [
        "housing.describe()"
      ],
      "execution_count": 31,
      "outputs": [
        {
          "output_type": "execute_result",
          "data": {
            "text/html": [
              "<div>\n",
              "<style scoped>\n",
              "    .dataframe tbody tr th:only-of-type {\n",
              "        vertical-align: middle;\n",
              "    }\n",
              "\n",
              "    .dataframe tbody tr th {\n",
              "        vertical-align: top;\n",
              "    }\n",
              "\n",
              "    .dataframe thead th {\n",
              "        text-align: right;\n",
              "    }\n",
              "</style>\n",
              "<table border=\"1\" class=\"dataframe\">\n",
              "  <thead>\n",
              "    <tr style=\"text-align: right;\">\n",
              "      <th></th>\n",
              "      <th>CRIM</th>\n",
              "      <th>ZN</th>\n",
              "      <th>INDUS</th>\n",
              "      <th>CHAS</th>\n",
              "      <th>NOX</th>\n",
              "      <th>RM</th>\n",
              "      <th>AGE</th>\n",
              "      <th>DIS</th>\n",
              "      <th>RAD</th>\n",
              "      <th>TAX</th>\n",
              "      <th>PTRATIO</th>\n",
              "      <th>B</th>\n",
              "      <th>LSTAT</th>\n",
              "    </tr>\n",
              "  </thead>\n",
              "  <tbody>\n",
              "    <tr>\n",
              "      <th>count</th>\n",
              "      <td>404.000000</td>\n",
              "      <td>404.000000</td>\n",
              "      <td>404.000000</td>\n",
              "      <td>404.000000</td>\n",
              "      <td>404.000000</td>\n",
              "      <td>399.000000</td>\n",
              "      <td>404.000000</td>\n",
              "      <td>404.000000</td>\n",
              "      <td>404.000000</td>\n",
              "      <td>404.000000</td>\n",
              "      <td>404.000000</td>\n",
              "      <td>404.000000</td>\n",
              "      <td>404.000000</td>\n",
              "    </tr>\n",
              "    <tr>\n",
              "      <th>mean</th>\n",
              "      <td>3.602814</td>\n",
              "      <td>10.836634</td>\n",
              "      <td>11.344950</td>\n",
              "      <td>0.069307</td>\n",
              "      <td>0.558064</td>\n",
              "      <td>6.279481</td>\n",
              "      <td>69.039851</td>\n",
              "      <td>3.746210</td>\n",
              "      <td>9.735149</td>\n",
              "      <td>412.341584</td>\n",
              "      <td>18.473267</td>\n",
              "      <td>353.392822</td>\n",
              "      <td>12.791609</td>\n",
              "    </tr>\n",
              "    <tr>\n",
              "      <th>std</th>\n",
              "      <td>8.099383</td>\n",
              "      <td>22.150636</td>\n",
              "      <td>6.877817</td>\n",
              "      <td>0.254290</td>\n",
              "      <td>0.116875</td>\n",
              "      <td>0.716784</td>\n",
              "      <td>28.258248</td>\n",
              "      <td>2.099057</td>\n",
              "      <td>8.731259</td>\n",
              "      <td>168.672623</td>\n",
              "      <td>2.129243</td>\n",
              "      <td>96.069235</td>\n",
              "      <td>7.235740</td>\n",
              "    </tr>\n",
              "    <tr>\n",
              "      <th>min</th>\n",
              "      <td>0.006320</td>\n",
              "      <td>0.000000</td>\n",
              "      <td>0.740000</td>\n",
              "      <td>0.000000</td>\n",
              "      <td>0.389000</td>\n",
              "      <td>3.561000</td>\n",
              "      <td>2.900000</td>\n",
              "      <td>1.129600</td>\n",
              "      <td>1.000000</td>\n",
              "      <td>187.000000</td>\n",
              "      <td>13.000000</td>\n",
              "      <td>0.320000</td>\n",
              "      <td>1.730000</td>\n",
              "    </tr>\n",
              "    <tr>\n",
              "      <th>25%</th>\n",
              "      <td>0.086963</td>\n",
              "      <td>0.000000</td>\n",
              "      <td>5.190000</td>\n",
              "      <td>0.000000</td>\n",
              "      <td>0.453000</td>\n",
              "      <td>5.876500</td>\n",
              "      <td>44.850000</td>\n",
              "      <td>2.035975</td>\n",
              "      <td>4.000000</td>\n",
              "      <td>284.000000</td>\n",
              "      <td>17.400000</td>\n",
              "      <td>374.617500</td>\n",
              "      <td>6.847500</td>\n",
              "    </tr>\n",
              "    <tr>\n",
              "      <th>50%</th>\n",
              "      <td>0.286735</td>\n",
              "      <td>0.000000</td>\n",
              "      <td>9.900000</td>\n",
              "      <td>0.000000</td>\n",
              "      <td>0.538000</td>\n",
              "      <td>6.209000</td>\n",
              "      <td>78.200000</td>\n",
              "      <td>3.122200</td>\n",
              "      <td>5.000000</td>\n",
              "      <td>337.000000</td>\n",
              "      <td>19.000000</td>\n",
              "      <td>390.955000</td>\n",
              "      <td>11.570000</td>\n",
              "    </tr>\n",
              "    <tr>\n",
              "      <th>75%</th>\n",
              "      <td>3.731923</td>\n",
              "      <td>12.500000</td>\n",
              "      <td>18.100000</td>\n",
              "      <td>0.000000</td>\n",
              "      <td>0.631000</td>\n",
              "      <td>6.630500</td>\n",
              "      <td>94.100000</td>\n",
              "      <td>5.100400</td>\n",
              "      <td>24.000000</td>\n",
              "      <td>666.000000</td>\n",
              "      <td>20.200000</td>\n",
              "      <td>395.630000</td>\n",
              "      <td>17.102500</td>\n",
              "    </tr>\n",
              "    <tr>\n",
              "      <th>max</th>\n",
              "      <td>73.534100</td>\n",
              "      <td>100.000000</td>\n",
              "      <td>27.740000</td>\n",
              "      <td>1.000000</td>\n",
              "      <td>0.871000</td>\n",
              "      <td>8.780000</td>\n",
              "      <td>100.000000</td>\n",
              "      <td>12.126500</td>\n",
              "      <td>24.000000</td>\n",
              "      <td>711.000000</td>\n",
              "      <td>22.000000</td>\n",
              "      <td>396.900000</td>\n",
              "      <td>36.980000</td>\n",
              "    </tr>\n",
              "  </tbody>\n",
              "</table>\n",
              "</div>"
            ],
            "text/plain": [
              "             CRIM          ZN       INDUS  ...     PTRATIO           B       LSTAT\n",
              "count  404.000000  404.000000  404.000000  ...  404.000000  404.000000  404.000000\n",
              "mean     3.602814   10.836634   11.344950  ...   18.473267  353.392822   12.791609\n",
              "std      8.099383   22.150636    6.877817  ...    2.129243   96.069235    7.235740\n",
              "min      0.006320    0.000000    0.740000  ...   13.000000    0.320000    1.730000\n",
              "25%      0.086963    0.000000    5.190000  ...   17.400000  374.617500    6.847500\n",
              "50%      0.286735    0.000000    9.900000  ...   19.000000  390.955000   11.570000\n",
              "75%      3.731923   12.500000   18.100000  ...   20.200000  395.630000   17.102500\n",
              "max     73.534100  100.000000   27.740000  ...   22.000000  396.900000   36.980000\n",
              "\n",
              "[8 rows x 13 columns]"
            ]
          },
          "metadata": {
            "tags": []
          },
          "execution_count": 31
        }
      ]
    },
    {
      "cell_type": "markdown",
      "metadata": {
        "id": "JCLuwZ0uwnDN"
      },
      "source": [
        "#Scikit-learn Design\n",
        "Primarily, three types of objects\n",
        "1. Estimators - It estimates some parameter based on a dataset. Eg. imputer. It has a fit method and transform method. Fit method - Fits the dataset and calculates internal parameters\n",
        "\n",
        "2. Transformers - transform method takes input and returns output based on the learnings from fit(). It also has a convenience function called fit_transform() which fits and then transforms.\n",
        "\n",
        "3. Predictors - LinearRegression model is an example of predictor. fit() and predict() are two common functions. It also gives score() function which will evaluate the predictions.\n",
        "\n",
        "# Feature Scaling\n",
        "Primarily, two types of feature scaling methods:\n",
        "1. Min-max scaling (Normalization)\n",
        "    (value - min)/(max - min)\n",
        "    Sklearn provides a class called MinMaxScaler for this\n",
        "    \n",
        "2. Standardization\n",
        "    (value - mean)/std\n",
        "    Sklearn provides a class called StandardScaler for this\n"
      ]
    },
    {
      "cell_type": "markdown",
      "metadata": {
        "id": "WcA61XgYyF2n"
      },
      "source": [
        "# creating a pipeline"
      ]
    },
    {
      "cell_type": "code",
      "metadata": {
        "id": "30x5TL3RwpOU"
      },
      "source": [
        "from sklearn.pipeline import Pipeline\n",
        "from sklearn.preprocessing import StandardScaler\n",
        "\n",
        "my_pipeline=Pipeline([\n",
        "                      ('imputer',SimpleImputer(strategy='median')),\n",
        "                        ('st_scaler',StandardScaler()),\n",
        "])"
      ],
      "execution_count": 32,
      "outputs": []
    },
    {
      "cell_type": "code",
      "metadata": {
        "id": "iNh-RxFJwXoR"
      },
      "source": [
        "housing_num_tr=my_pipeline.fit_transform(housing)"
      ],
      "execution_count": 33,
      "outputs": []
    },
    {
      "cell_type": "code",
      "metadata": {
        "colab": {
          "base_uri": "https://localhost:8080/"
        },
        "id": "4TOdmzZ20bCA",
        "outputId": "f6fa0366-e0b0-45d6-fa9e-1f7b087dd990"
      },
      "source": [
        "housing_num_tr.shape"
      ],
      "execution_count": 34,
      "outputs": [
        {
          "output_type": "execute_result",
          "data": {
            "text/plain": [
              "(404, 13)"
            ]
          },
          "metadata": {
            "tags": []
          },
          "execution_count": 34
        }
      ]
    },
    {
      "cell_type": "markdown",
      "metadata": {
        "id": "N_UTGsFS1A92"
      },
      "source": [
        "# select desire model for real Estates"
      ]
    },
    {
      "cell_type": "code",
      "metadata": {
        "colab": {
          "base_uri": "https://localhost:8080/"
        },
        "id": "xqQ31I9d1Ox6",
        "outputId": "b309faed-ac99-45cf-df1b-9a4ae6668efc"
      },
      "source": [
        "from sklearn.linear_model import LinearRegression\n",
        "from sklearn.tree import DecisionTreeRegressor\n",
        "from sklearn.ensemble import  RandomForestRegressor\n",
        "# model=LinearRegression()\n",
        "model=DecisionTreeRegressor()\n",
        "model=RandomForestRegressor()\n",
        "model.fit(housing_num_tr,housing_labels)\n"
      ],
      "execution_count": 35,
      "outputs": [
        {
          "output_type": "execute_result",
          "data": {
            "text/plain": [
              "RandomForestRegressor(bootstrap=True, ccp_alpha=0.0, criterion='mse',\n",
              "                      max_depth=None, max_features='auto', max_leaf_nodes=None,\n",
              "                      max_samples=None, min_impurity_decrease=0.0,\n",
              "                      min_impurity_split=None, min_samples_leaf=1,\n",
              "                      min_samples_split=2, min_weight_fraction_leaf=0.0,\n",
              "                      n_estimators=100, n_jobs=None, oob_score=False,\n",
              "                      random_state=None, verbose=0, warm_start=False)"
            ]
          },
          "metadata": {
            "tags": []
          },
          "execution_count": 35
        }
      ]
    },
    {
      "cell_type": "code",
      "metadata": {
        "id": "S4dkTuDH4nRQ"
      },
      "source": [
        "some_data=housing.iloc[:5]"
      ],
      "execution_count": 36,
      "outputs": []
    },
    {
      "cell_type": "code",
      "metadata": {
        "id": "NjYgvzLe5a_r"
      },
      "source": [
        "some_labels=housing_labels.iloc[:5]"
      ],
      "execution_count": 37,
      "outputs": []
    },
    {
      "cell_type": "code",
      "metadata": {
        "id": "6cmD3UBp5piS"
      },
      "source": [
        "prepared_data = my_pipeline.transform(some_data)"
      ],
      "execution_count": 38,
      "outputs": []
    },
    {
      "cell_type": "code",
      "metadata": {
        "colab": {
          "base_uri": "https://localhost:8080/"
        },
        "id": "6nHIcRbC5upB",
        "outputId": "b83f0f1e-d62d-4832-c3c8-764849187451"
      },
      "source": [
        "model.predict(prepared_data)"
      ],
      "execution_count": 39,
      "outputs": [
        {
          "output_type": "execute_result",
          "data": {
            "text/plain": [
              "array([22.476, 25.49 , 16.311, 23.476, 23.457])"
            ]
          },
          "metadata": {
            "tags": []
          },
          "execution_count": 39
        }
      ]
    },
    {
      "cell_type": "code",
      "metadata": {
        "colab": {
          "base_uri": "https://localhost:8080/"
        },
        "id": "rCw9L-Hg6Jnb",
        "outputId": "18304d30-7252-4378-c18f-5a527ba70e34"
      },
      "source": [
        "list(some_labels)"
      ],
      "execution_count": 40,
      "outputs": [
        {
          "output_type": "execute_result",
          "data": {
            "text/plain": [
              "[21.9, 24.5, 16.7, 23.1, 23.0]"
            ]
          },
          "metadata": {
            "tags": []
          },
          "execution_count": 40
        }
      ]
    },
    {
      "cell_type": "markdown",
      "metadata": {
        "id": "D1tweVbKHwwH"
      },
      "source": [
        "# Evaluating the Model"
      ]
    },
    {
      "cell_type": "code",
      "metadata": {
        "id": "hYTn7JW_H2Nm",
        "colab": {
          "base_uri": "https://localhost:8080/"
        },
        "outputId": "22ce8960-3ac9-4f79-9852-2478d04ba600"
      },
      "source": [
        "from sklearn.metrics import mean_squared_error\n",
        "housing_predictions= model.predict(housing_num_tr)\n",
        "mse=mean_squared_error(housing_labels,housing_predictions)\n",
        "rmse=np.sqrt(mse)\n",
        "rmse"
      ],
      "execution_count": 46,
      "outputs": [
        {
          "output_type": "execute_result",
          "data": {
            "text/plain": [
              "1.1662031850461907"
            ]
          },
          "metadata": {
            "tags": []
          },
          "execution_count": 46
        }
      ]
    },
    {
      "cell_type": "markdown",
      "metadata": {
        "id": "XfhIhHmntWif"
      },
      "source": [
        "when the you finde the mean_squared_error its give the 0 that mean mode give me the overfiting"
      ]
    },
    {
      "cell_type": "markdown",
      "metadata": {
        "id": "3mCuEkNzuAs7"
      },
      "source": [
        "#The beter using of evaluation technique - cross validation"
      ]
    },
    {
      "cell_type": "code",
      "metadata": {
        "id": "PewX3oXot3Cg"
      },
      "source": [
        "# 1 2 3 4 5 6 7 8 9 10\n",
        "from sklearn.model_selection import cross_val_score\n",
        "scores = cross_val_score(model, housing_num_tr, housing_labels, scoring=\"neg_mean_squared_error\", cv=10)\n",
        "rmse_scores = np.sqrt(-scores)"
      ],
      "execution_count": 42,
      "outputs": []
    },
    {
      "cell_type": "code",
      "metadata": {
        "colab": {
          "base_uri": "https://localhost:8080/"
        },
        "id": "VRcWRIiCUH6X",
        "outputId": "1fff848e-78b1-4758-ac8a-07b1154ff134"
      },
      "source": [
        "rmse_scores"
      ],
      "execution_count": 43,
      "outputs": [
        {
          "output_type": "execute_result",
          "data": {
            "text/plain": [
              "array([2.81132813, 2.72187883, 4.31133716, 2.57394142, 3.34356433,\n",
              "       2.61480164, 4.78776513, 3.33034472, 3.37456215, 3.20947081])"
            ]
          },
          "metadata": {
            "tags": []
          },
          "execution_count": 43
        }
      ]
    },
    {
      "cell_type": "code",
      "metadata": {
        "colab": {
          "base_uri": "https://localhost:8080/"
        },
        "id": "zuAWKATNULem",
        "outputId": "03677b67-34dc-4edd-c795-9f9cacd1f727"
      },
      "source": [
        "print(\"mean:\",rmse_scores.mean())\n",
        "print(\"stansar deviation:\", rmse_scores.std())"
      ],
      "execution_count": 44,
      "outputs": [
        {
          "output_type": "stream",
          "text": [
            "mean: 3.307899431137782\n",
            "stansar deviation: 0.6943975656272632\n"
          ],
          "name": "stdout"
        }
      ]
    },
    {
      "cell_type": "markdown",
      "metadata": {
        "id": "JMHL2c9iUzBe"
      },
      "source": [
        "# Saving the model"
      ]
    },
    {
      "cell_type": "code",
      "metadata": {
        "colab": {
          "base_uri": "https://localhost:8080/"
        },
        "id": "SFxHWDPIUw3s",
        "outputId": "5b193ee3-2bf9-4661-bcfd-ad3f0920e738"
      },
      "source": [
        "from joblib import dump, load\n",
        "dump(model, 'Dragon.joblib') "
      ],
      "execution_count": 45,
      "outputs": [
        {
          "output_type": "execute_result",
          "data": {
            "text/plain": [
              "['Dragon.joblib']"
            ]
          },
          "metadata": {
            "tags": []
          },
          "execution_count": 45
        }
      ]
    }
  ]
}